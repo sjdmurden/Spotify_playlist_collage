{
 "cells": [
  {
   "cell_type": "markdown",
   "metadata": {},
   "source": [
    "c:/Users/sjdmu/AppData/Local/Programs/Python/Python310/python.exe -m pip install ipykernel -U --user --force-reinstall"
   ]
  },
  {
   "cell_type": "code",
   "execution_count": 3,
   "metadata": {},
   "outputs": [
    {
     "name": "stdout",
     "output_type": "stream",
     "text": [
      "Requirement already satisfied: spotipy in c:\\users\\sjdmu\\documents\\anaconda\\lib\\site-packages (2.19.0)\n",
      "Requirement already satisfied: six>=1.15.0 in c:\\users\\sjdmu\\documents\\anaconda\\lib\\site-packages (from spotipy) (1.16.0)\n",
      "Requirement already satisfied: requests>=2.25.0 in c:\\users\\sjdmu\\documents\\anaconda\\lib\\site-packages (from spotipy) (2.27.1)\n",
      "Requirement already satisfied: urllib3>=1.26.0 in c:\\users\\sjdmu\\documents\\anaconda\\lib\\site-packages (from spotipy) (1.26.9)\n",
      "Requirement already satisfied: certifi>=2017.4.17 in c:\\users\\sjdmu\\documents\\anaconda\\lib\\site-packages (from requests>=2.25.0->spotipy) (2018.4.16)\n",
      "Requirement already satisfied: charset-normalizer~=2.0.0; python_version >= \"3\" in c:\\users\\sjdmu\\documents\\anaconda\\lib\\site-packages (from requests>=2.25.0->spotipy) (2.0.12)\n",
      "Requirement already satisfied: idna<4,>=2.5; python_version >= \"3\" in c:\\users\\sjdmu\\documents\\anaconda\\lib\\site-packages (from requests>=2.25.0->spotipy) (2.6)\n"
     ]
    },
    {
     "name": "stderr",
     "output_type": "stream",
     "text": [
      "distributed 1.21.8 requires msgpack, which is not installed.\n",
      "flask 1.0.2 has requirement click>=5.1, but you'll have click 3.3 which is incompatible.\n",
      "distributed 1.21.8 has requirement click>=6.6, but you'll have click 3.3 which is incompatible.\n",
      "You are using pip version 10.0.1, however version 21.3.1 is available.\n",
      "You should consider upgrading via the 'python -m pip install --upgrade pip' command.\n"
     ]
    }
   ],
   "source": [
    "import sys\n",
    "!{sys.executable} -m pip install spotipy"
   ]
  },
  {
   "cell_type": "code",
   "execution_count": 4,
   "metadata": {},
   "outputs": [
    {
     "data": {
      "text/plain": [
       "\"\\nthis sets the environment for the client id and secret id\\nbasically it's like it's been saved on to the pc\\nhttps://stackoverflow.com/questions/5971312/how-to-set-environment-variables-in-python\\n\""
      ]
     },
     "execution_count": 4,
     "metadata": {},
     "output_type": "execute_result"
    }
   ],
   "source": [
    "import os\n",
    "os.environ[\"SPOTIPY_CLIENT_ID\"] = \"66f96e20d2b647e99a2f8c987027f6d1\"\n",
    "os.environ[\"SPOTIPY_CLIENT_SECRET\"] = \"80a9c95ec4eb4d6bb064cf5597c85e93\"\n",
    "\n",
    "'''\n",
    "this sets the environment for the client id and secret id\n",
    "basically it's like it's been saved on to the pc\n",
    "https://stackoverflow.com/questions/5971312/how-to-set-environment-variables-in-python\n",
    "'''"
   ]
  },
  {
   "cell_type": "code",
   "execution_count": 5,
   "metadata": {},
   "outputs": [
    {
     "data": {
      "text/plain": [
       "'\\nThis code uses the Spotipy API to collate playlist cover images from the \\ninput playlists and create a collage of them in a square grid which is then\\nable to be saved as a png file. This function requires a square number of\\nplaylists to be inputted, so 1,4,9,16, etc., as a list of string URLs.\\n'"
      ]
     },
     "execution_count": 5,
     "metadata": {},
     "output_type": "execute_result"
    }
   ],
   "source": [
    "'''\n",
    "This code uses the Spotipy API to collate playlist cover images from the \n",
    "input playlists and create a collage of them in a square grid which is then\n",
    "able to be saved as a png file. This function requires a square number of\n",
    "playlists to be inputted, so 1,4,9,16, etc., as a list of string URLs.\n",
    "'''"
   ]
  },
  {
   "cell_type": "code",
   "execution_count": 6,
   "metadata": {},
   "outputs": [],
   "source": [
    "def get_playlist_art_collage(playlist_links):    \n",
    "    \n",
    "    # input is a list of string links\n",
    "    \n",
    "    from PIL import Image, ImageEnhance, ImageDraw\n",
    "    import urllib.request\n",
    "    import spotipy\n",
    "    from spotipy.oauth2 import SpotifyClientCredentials\n",
    "    spotify = spotipy.Spotify(client_credentials_manager=SpotifyClientCredentials())\n",
    "    \n",
    "    collage_name = str(input('Name of collage: '))\n",
    "        \n",
    "    '''\n",
    "    this creates a list of image URLs for each playlist image\n",
    "    '''\n",
    "    image_links = []\n",
    "    \n",
    "    for i in range(len(playlist_links)):\n",
    "        playlist_info = spotify.playlist_cover_image(playlist_links[i])\n",
    "        playlist_dict = dict(playlist_info[0])\n",
    "        \n",
    "        image_links.append(playlist_dict['url'])\n",
    "        i+=1\n",
    "        \n",
    "    '''\n",
    "    now we loop through the list of image links and save them locally\n",
    "    in a folder called playlist_cover_images\n",
    "    '''\n",
    "    k=0\n",
    "    a = 'C:\\\\Users\\\\sjdmu\\\\Documents\\\\Python\\\\Projects\\\\spotify_album_art\\\\playlist_cover_images'\n",
    "    for item in image_links:\n",
    "        urllib.request.urlretrieve(item, str(a+str('\\\\a_')+str(k))+str('.jpg'))\n",
    "        k+=1\n",
    "        \n",
    "    '''\n",
    "    now create the collage.\n",
    "    there must be a square number of playlist inputs.\n",
    "    let's have 400 pixels for each image.\n",
    "    '''\n",
    "    grid_length = int((len(playlist_links))**0.5) # 4 playlists means 4**0.5=2\n",
    "    \n",
    "    canvas = Image.new(\"RGBA\", (grid_length*400,grid_length*400))   # 400 squared pixels per image. 4 images = 2x2 grid\n",
    "    \n",
    "    p=0\n",
    "    for i in range(0,grid_length*400, 400):\n",
    "        for j in range(0,grid_length*400, 400):\n",
    "            file = \"C:\\\\Users\\\\sjdmu\\\\Documents\\\\Python\\\\Projects\\\\spotify_album_art\\\\playlist_cover_images\\\\a_\"+str(p)+\".jpg\"\n",
    "            photo = Image.open(file).convert(\"RGBA\")\n",
    "            photo = photo.resize((400,400))\n",
    "            canvas.paste(photo, (i,j))                   \n",
    "            p+=1\n",
    "            if p == len(playlist_links):\n",
    "                canvas.save(\n",
    "                    'C:\\\\Users\\\\sjdmu\\\\Documents\\\\Python\\\\Projects\\\\spotify_album_art\\\\playlist_cover_images\\\\'+str(collage_name)+'.png')\n",
    "                canvas.show()\n",
    "\n",
    "    "
   ]
  },
  {
   "cell_type": "code",
   "execution_count": 7,
   "metadata": {},
   "outputs": [
    {
     "name": "stdout",
     "output_type": "stream",
     "text": [
      "Name of collage: official\n"
     ]
    }
   ],
   "source": [
    "get_playlist_art_collage([\n",
    "    'https://open.spotify.com/playlist/1WH1KSLIGRX0wXebSyjdgb?si=b17bad97a5714af1',\n",
    "    'https://open.spotify.com/playlist/3wknDNDYmWHMYQuSDrhlGN?si=e182262f9e544d64',\n",
    "    'https://open.spotify.com/playlist/3eMK7UoRcyKoVEjwmXMW6D?si=1b4dc015699e40a9',\n",
    "    'https://open.spotify.com/playlist/1C8O9QKADMqSVVhP5V1fLL?si=c8a7ba72f4474891',\n",
    "    'https://open.spotify.com/playlist/76fa8WvkXtG1ItiqaSC9k6?si=66c3a4ddc69b43b3',\n",
    "    'https://open.spotify.com/playlist/2TWHphSFqcEw0l6SHIlqpU?si=fd6eaa27c15b4a20',\n",
    "    'https://open.spotify.com/playlist/2vktrS6uudhLrNMl4Pyl9A?si=6b45b743b6de4440',\n",
    "    'https://open.spotify.com/playlist/4TH7ojGHDOOLAvrTVVRP5E?si=a03742c9f91a4f92',\n",
    "    'https://open.spotify.com/playlist/0QVRIbZjyqEp0WswbFScKs?si=363b2142338d4d9c',\n",
    "    'https://open.spotify.com/playlist/1aEdBEkzfWo8L3RoHxvs0D?si=194200e128cd4bd3',\n",
    "    'https://open.spotify.com/playlist/6husVE3Zl7CmXmaMULEeV7?si=15db021d4e844ef9',\n",
    "    'https://open.spotify.com/playlist/2grkHcEHKKUPJBSU0QfsC7?si=32c77f29b40b4fd7',\n",
    "    'https://open.spotify.com/playlist/6M53KqslWBmPHUiaRFsd7C?si=8cb3f6ec1f3b426a',\n",
    "    'https://open.spotify.com/playlist/6VA6uiE6G9TIKOLFADkyEe?si=ba25319f1cd14f09',\n",
    "    'https://open.spotify.com/playlist/2yMBOG6o4FSezRgUVmHqcA?si=844c85f70e1d453e',\n",
    "    'https://open.spotify.com/playlist/28QbLBJodVyadQsmzR2G94?si=79b4d28aa2e34ef5'\n",
    "])"
   ]
  },
  {
   "cell_type": "code",
   "execution_count": null,
   "metadata": {},
   "outputs": [
    {
     "data": {
      "text/plain": [
       "'\\nthe above is an example using 16 of my own playlists\\n'"
      ]
     },
     "execution_count": 8,
     "metadata": {},
     "output_type": "execute_result"
    },
    {
     "ename": "",
     "evalue": "",
     "output_type": "error",
     "traceback": [
      "\u001b[1;31mRunning cells with 'Python 3.10.4 64-bit' requires ipykernel package.\n",
      "Run the following command to install 'ipykernel' into the Python environment. \n",
      "Command: 'c:/Users/sjdmu/AppData/Local/Programs/Python/Python310/python.exe -m pip install ipykernel -U --user --force-reinstall'"
     ]
    }
   ],
   "source": [
    "'''\n",
    "the above is an example using 16 of my own playlists\n",
    "'''"
   ]
  },
  {
   "cell_type": "code",
   "execution_count": null,
   "metadata": {},
   "outputs": [
    {
     "ename": "",
     "evalue": "",
     "output_type": "error",
     "traceback": [
      "\u001b[1;31mRunning cells with 'Python 3.10.4 64-bit' requires ipykernel package.\n",
      "Run the following command to install 'ipykernel' into the Python environment. \n",
      "Command: 'c:/Users/sjdmu/AppData/Local/Programs/Python/Python310/python.exe -m pip install ipykernel -U --user --force-reinstall'"
     ]
    }
   ],
   "source": []
  }
 ],
 "metadata": {
  "interpreter": {
   "hash": "aa4beeb04a93f301fdce96dbbe1fdd708eb77712155d61fd312408472386822a"
  },
  "kernelspec": {
   "display_name": "Python 3",
   "language": "python",
   "name": "python3"
  },
  "language_info": {
   "codemirror_mode": {
    "name": "ipython",
    "version": 3
   },
   "file_extension": ".py",
   "mimetype": "text/x-python",
   "name": "python",
   "nbconvert_exporter": "python",
   "pygments_lexer": "ipython3",
   "version": "3.6.5"
  }
 },
 "nbformat": 4,
 "nbformat_minor": 2
}
